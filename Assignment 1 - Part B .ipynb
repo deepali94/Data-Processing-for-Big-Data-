{
 "cells": [
  {
   "cell_type": "markdown",
   "metadata": {},
   "source": [
    "## Part B: Analysing CSV Data"
   ]
  },
  {
   "cell_type": "markdown",
   "metadata": {},
   "source": [
    "### Step 01: Import pyspark and initialize Spark"
   ]
  },
  {
   "cell_type": "code",
   "execution_count": 1,
   "metadata": {},
   "outputs": [],
   "source": [
    "import os\n",
    "os.environ['PYSPARK_SUBMIT_ARGS'] = '--packages org.mongodb.spark:mongo-spark-connector_2.11:2.4.0 pyspark-shell'\n",
    "\n",
    "# Initialising pyspark by creating entry points to spark\n",
    "from pyspark import SparkContext # Spark\n",
    "from pyspark.sql import SparkSession # Spark SQL\n",
    "\n",
    "# Checking for existing spark context before creating a new one\n",
    "sc = SparkContext.getOrCreate()\n",
    "\n",
    "# Create a new spark context if there is no pre-existing spark context with required specifications about logical cores and application name\n",
    "if (sc is None):\n",
    "    sc = SparkContext(master=\"local[*]\")\n",
    "\n",
    "# Initialising spark session object used to create dataframes from various input sources\n",
    "spark = SparkSession(sparkContext=sc)\\\n",
    "        .builder\\\n",
    "        .appName(\"MongoDB and Apache Spark\")\\\n",
    "        .config(\"spark.jars.packages\", \"org.mongodb.spark:mongo-spark-connector_2.11:2.4.0\")\\\n",
    "        .config(\"spark.mongodb.input.uri\", \"mongodb://127.0.0.1/fit5202_db.ass1partb_coll\")\\\n",
    "        .config(\"spark.mongodb.output.uri\", \"mongodb://127.0.0.1/fit5202_db.ass1partb_coll\")\\\n",
    "        .getOrCreate()\n"
   ]
  },
  {
   "cell_type": "markdown",
   "metadata": {},
   "source": [
    "### Step 02: Create Dataframe"
   ]
  },
  {
   "cell_type": "code",
   "execution_count": 2,
   "metadata": {},
   "outputs": [
    {
     "name": "stdout",
     "output_type": "stream",
     "text": [
      "+-------------+-----------------+-------------------+---------------------------+---------------------------+---------------------------+-------------+\n",
      "|Reported Date|Suburb - Incident|Postcode - Incident|Offence Level 1 Description|Offence Level 2 Description|Offence Level 3 Description|Offence Count|\n",
      "+-------------+-----------------+-------------------+---------------------------+---------------------------+---------------------------+-------------+\n",
      "|    1/07/2010|         ADELAIDE|               5000|       OFFENCES AGAINST ...|       FRAUD DECEPTION A...|       Obtain benefit by...|            2|\n",
      "|    1/07/2010|         ADELAIDE|               5000|       OFFENCES AGAINST ...|       PROPERTY DAMAGE A...|       Other property da...|            2|\n",
      "|    1/07/2010|         ADELAIDE|               5000|       OFFENCES AGAINST ...|       SERIOUS CRIMINAL ...|        SCT - Non Residence|            1|\n",
      "|    1/07/2010|         ADELAIDE|               5000|       OFFENCES AGAINST ...|       THEFT AND RELATED...|                Other theft|            6|\n",
      "|    1/07/2010|         ADELAIDE|               5000|       OFFENCES AGAINST ...|       THEFT AND RELATED...|            Theft from shop|            3|\n",
      "|    1/07/2010|         ADELAIDE|               5000|       OFFENCES AGAINST ...|       ACTS INTENDED TO ...|             Common Assault|            2|\n",
      "|    1/07/2010|         ALBERTON|               5014|       OFFENCES AGAINST ...|       PROPERTY DAMAGE A...|       Other property da...|            1|\n",
      "|    1/07/2010|          ALDGATE|               5154|       OFFENCES AGAINST ...|       THEFT AND RELATED...|                Other theft|            1|\n",
      "|    1/07/2010|           ALFORD|               5555|       OFFENCES AGAINST ...|       THEFT AND RELATED...|                Other theft|            1|\n",
      "|    1/07/2010|            AMATA|               5724|       OFFENCES AGAINST ...|       PROPERTY DAMAGE A...|       Property damage b...|            1|\n",
      "|    1/07/2010|            AMATA|               5724|       OFFENCES AGAINST ...|       ACTS INTENDED TO ...|       Serious Assault r...|            1|\n",
      "|    1/07/2010|     ANDREWS FARM|               5114|       OFFENCES AGAINST ...|       PROPERTY DAMAGE A...|       Other property da...|            1|\n",
      "|    1/07/2010|       ASCOT PARK|               5043|       OFFENCES AGAINST ...|       FRAUD DECEPTION A...|       Obtain benefit by...|            1|\n",
      "|    1/07/2010|       ATHELSTONE|               5076|       OFFENCES AGAINST ...|       PROPERTY DAMAGE A...|       Other property da...|            1|\n",
      "|    1/07/2010|           AUBURN|               5451|       OFFENCES AGAINST ...|       SERIOUS CRIMINAL ...|            SCT - Residence|            1|\n",
      "|    1/07/2010|           BELAIR|               5052|       OFFENCES AGAINST ...|       SERIOUS CRIMINAL ...|            SCT - Residence|            1|\n",
      "|    1/07/2010|         BIRDWOOD|               5234|       OFFENCES AGAINST ...|       SERIOUS CRIMINAL ...|        SCT - Non Residence|            1|\n",
      "|    1/07/2010|       BIRKENHEAD|               5015|       OFFENCES AGAINST ...|       ACTS INTENDED TO ...|             Common Assault|            1|\n",
      "|    1/07/2010|      BLAIR ATHOL|               5084|       OFFENCES AGAINST ...|       PROPERTY DAMAGE A...|       Other property da...|            1|\n",
      "|    1/07/2010|      BLAIR ATHOL|               5084|       OFFENCES AGAINST ...|       THEFT AND RELATED...|       Theft from motor ...|            1|\n",
      "+-------------+-----------------+-------------------+---------------------------+---------------------------+---------------------------+-------------+\n",
      "only showing top 20 rows\n",
      "\n"
     ]
    }
   ],
   "source": [
    "# Using spark session object to load the csv file\n",
    "crime_df = spark.read.csv('Crime_Statistics_SA_2010_present.csv', inferSchema=True, header=True)\n",
    "crime_df.show()"
   ]
  },
  {
   "cell_type": "code",
   "execution_count": 3,
   "metadata": {},
   "outputs": [
    {
     "name": "stdout",
     "output_type": "stream",
     "text": [
      "root\n",
      " |-- Reported Date: string (nullable = true)\n",
      " |-- Suburb - Incident: string (nullable = true)\n",
      " |-- Postcode - Incident: string (nullable = true)\n",
      " |-- Offence Level 1 Description: string (nullable = true)\n",
      " |-- Offence Level 2 Description: string (nullable = true)\n",
      " |-- Offence Level 3 Description: string (nullable = true)\n",
      " |-- Offence Count: integer (nullable = true)\n",
      "\n"
     ]
    }
   ],
   "source": [
    "# Printing dataframe schema\n",
    "crime_df.printSchema()"
   ]
  },
  {
   "cell_type": "code",
   "execution_count": 4,
   "metadata": {},
   "outputs": [
    {
     "name": "stdout",
     "output_type": "stream",
     "text": [
      "The number of records in the dataframe are : 727408\n"
     ]
    }
   ],
   "source": [
    "# Printing the count of records present in the dataframe\n",
    "print('The number of records in the dataframe are :', crime_df.count())"
   ]
  },
  {
   "cell_type": "markdown",
   "metadata": {},
   "source": [
    "### Step 03: Write to Database"
   ]
  },
  {
   "cell_type": "code",
   "execution_count": 6,
   "metadata": {},
   "outputs": [
    {
     "name": "stdout",
     "output_type": "stream",
     "text": [
      "+-------------+-----------------+-------------------+---------------------------+---------------------------+---------------------------+-------------+\n",
      "|Reported Date|Suburb - Incident|Postcode - Incident|Offence Level 1 Description|Offence Level 2 Description|Offence Level 3 Description|Offence Count|\n",
      "+-------------+-----------------+-------------------+---------------------------+---------------------------+---------------------------+-------------+\n",
      "|    1/07/2010|         ADELAIDE|               5000|       OFFENCES AGAINST ...|       FRAUD DECEPTION A...|       Obtain benefit by...|            2|\n",
      "|    1/07/2010|         ADELAIDE|               5000|       OFFENCES AGAINST ...|       PROPERTY DAMAGE A...|       Other property da...|            2|\n",
      "|    1/07/2010|         ADELAIDE|               5000|       OFFENCES AGAINST ...|       SERIOUS CRIMINAL ...|        SCT - Non Residence|            1|\n",
      "|    1/07/2010|         ADELAIDE|               5000|       OFFENCES AGAINST ...|       THEFT AND RELATED...|                Other theft|            6|\n",
      "|    1/07/2010|         ADELAIDE|               5000|       OFFENCES AGAINST ...|       THEFT AND RELATED...|            Theft from shop|            3|\n",
      "|    1/07/2010|         ADELAIDE|               5000|       OFFENCES AGAINST ...|       ACTS INTENDED TO ...|             Common Assault|            2|\n",
      "|    1/07/2010|         ALBERTON|               5014|       OFFENCES AGAINST ...|       PROPERTY DAMAGE A...|       Other property da...|            1|\n",
      "|    1/07/2010|          ALDGATE|               5154|       OFFENCES AGAINST ...|       THEFT AND RELATED...|                Other theft|            1|\n",
      "|    1/07/2010|           ALFORD|               5555|       OFFENCES AGAINST ...|       THEFT AND RELATED...|                Other theft|            1|\n",
      "|    1/07/2010|            AMATA|               5724|       OFFENCES AGAINST ...|       PROPERTY DAMAGE A...|       Property damage b...|            1|\n",
      "|    1/07/2010|            AMATA|               5724|       OFFENCES AGAINST ...|       ACTS INTENDED TO ...|       Serious Assault r...|            1|\n",
      "|    1/07/2010|     ANDREWS FARM|               5114|       OFFENCES AGAINST ...|       PROPERTY DAMAGE A...|       Other property da...|            1|\n",
      "|    1/07/2010|       ASCOT PARK|               5043|       OFFENCES AGAINST ...|       FRAUD DECEPTION A...|       Obtain benefit by...|            1|\n",
      "|    1/07/2010|       ATHELSTONE|               5076|       OFFENCES AGAINST ...|       PROPERTY DAMAGE A...|       Other property da...|            1|\n",
      "|    1/07/2010|           AUBURN|               5451|       OFFENCES AGAINST ...|       SERIOUS CRIMINAL ...|            SCT - Residence|            1|\n",
      "|    1/07/2010|           BELAIR|               5052|       OFFENCES AGAINST ...|       SERIOUS CRIMINAL ...|            SCT - Residence|            1|\n",
      "|    1/07/2010|         BIRDWOOD|               5234|       OFFENCES AGAINST ...|       SERIOUS CRIMINAL ...|        SCT - Non Residence|            1|\n",
      "|    1/07/2010|       BIRKENHEAD|               5015|       OFFENCES AGAINST ...|       ACTS INTENDED TO ...|             Common Assault|            1|\n",
      "|    1/07/2010|      BLAIR ATHOL|               5084|       OFFENCES AGAINST ...|       PROPERTY DAMAGE A...|       Other property da...|            1|\n",
      "|    1/07/2010|      BLAIR ATHOL|               5084|       OFFENCES AGAINST ...|       THEFT AND RELATED...|       Theft from motor ...|            1|\n",
      "+-------------+-----------------+-------------------+---------------------------+---------------------------+---------------------------+-------------+\n",
      "only showing top 20 rows\n",
      "\n"
     ]
    }
   ],
   "source": [
    "# Writing to mongoDB to use it as a data source \n",
    "crime_df.write.format(\"com.mongodb.spark.sql.DefaultSource\").mode(\"overwrite\").save()\n",
    "crime_df.show()"
   ]
  },
  {
   "cell_type": "markdown",
   "metadata": {},
   "source": [
    "### Step 04: Read from Database"
   ]
  },
  {
   "cell_type": "code",
   "execution_count": 7,
   "metadata": {},
   "outputs": [
    {
     "name": "stdout",
     "output_type": "stream",
     "text": [
      "+-------+------------------+---------------------------+---------------------------+---------------------------+-------------------+-------------+-----------------+\n",
      "|summary|     Offence Count|Offence Level 1 Description|Offence Level 2 Description|Offence Level 3 Description|Postcode - Incident|Reported Date|Suburb - Incident|\n",
      "+-------+------------------+---------------------------+---------------------------+---------------------------+-------------------+-------------+-----------------+\n",
      "|  count|            727407|                     727407|                     727407|                     727407|             726926|       727407|           727247|\n",
      "|   mean|1.1715174585892079|                       null|                       null|                       null| 5153.2510978611035|         null|             null|\n",
      "| stddev|0.5787050930378087|                       null|                       null|                       null| 199.48097964732779|         null|             null|\n",
      "|    min|                 1|       OFFENCES AGAINST ...|       ACTS INTENDED TO ...|       Abduction, harass...|               0872|    1/01/2011|   ABERFOYLE PARK|\n",
      "|    max|                28|       OFFENCES AGAINST ...|       THEFT AND RELATED...|       Threatening behav...|      NOT DISCLOSED|    9/12/2018|   ZADOWS LANDING|\n",
      "+-------+------------------+---------------------------+---------------------------+---------------------------+-------------------+-------------+-----------------+\n",
      "\n"
     ]
    }
   ],
   "source": [
    "# Creating a soark dataframe to hold data from the mongoDB collection\n",
    "new_df = spark.read.format(\"com.mongodb.spark.sql.DefaultSource\").load()\n",
    "new_df.describe().show()"
   ]
  },
  {
   "cell_type": "markdown",
   "metadata": {},
   "source": [
    "### Step 05: Calculate the statistics of numeric and string columns"
   ]
  },
  {
   "cell_type": "code",
   "execution_count": 8,
   "metadata": {},
   "outputs": [
    {
     "name": "stdout",
     "output_type": "stream",
     "text": [
      "+-------+------------------+-------------+\n",
      "|summary|     Offence Count|Reported Date|\n",
      "+-------+------------------+-------------+\n",
      "|  count|            727407|       727407|\n",
      "|   mean|1.1715174585892079|         null|\n",
      "| stddev|0.5787050930378049|         null|\n",
      "|    min|                 1|    1/01/2011|\n",
      "|    max|                28|    9/12/2018|\n",
      "+-------+------------------+-------------+\n",
      "\n"
     ]
    }
   ],
   "source": [
    "# Finding the statistical parameters \n",
    "new_df['Offence Count', 'Reported Date'].describe().show()"
   ]
  },
  {
   "cell_type": "markdown",
   "metadata": {},
   "source": [
    "* The minimum and the maximum reported date shown above is different from the actual minumum and maximum date.\n",
    "* The possible reason for the wrong min and max of reported date shown could be that the column `Reported Date` is in string format, rather than being in date format. This can be observed by printing the dataframe schema.\n",
    "* In the string format, the reported dates are converted into ascii values and then their minimum and maximum values are shown which would be different from the actual min and max date."
   ]
  },
  {
   "cell_type": "markdown",
   "metadata": {},
   "source": [
    "### Step 06: Change the data type of a column"
   ]
  },
  {
   "cell_type": "code",
   "execution_count": 9,
   "metadata": {},
   "outputs": [
    {
     "name": "stdout",
     "output_type": "stream",
     "text": [
      "root\n",
      " |-- Offence Count: integer (nullable = true)\n",
      " |-- Offence Level 1 Description: string (nullable = true)\n",
      " |-- Offence Level 2 Description: string (nullable = true)\n",
      " |-- Offence Level 3 Description: string (nullable = true)\n",
      " |-- Postcode - Incident: string (nullable = true)\n",
      " |-- Reported Date: string (nullable = true)\n",
      " |-- Suburb - Incident: string (nullable = true)\n",
      " |-- _id: struct (nullable = true)\n",
      " |    |-- oid: string (nullable = true)\n",
      " |-- Reported Date_dateformat: date (nullable = true)\n",
      "\n"
     ]
    }
   ],
   "source": [
    "# Importing libraries\n",
    "from datetime import datetime\n",
    "from pyspark.sql.functions import col, udf\n",
    "from pyspark.sql.types import DateType\n",
    "\n",
    "# Creating user defined function which converts the string cell into a date\n",
    "func =  udf(lambda x: datetime.strptime(x, '%m/%d/%Y'), DateType())\n",
    "\n",
    "# Appending new column to dataframe\n",
    "final_crime_df = new_df.withColumn('Reported Date_dateformat', func(col('Reported Date')))\n",
    "\n",
    "\n",
    "final_crime_df.printSchema()"
   ]
  },
  {
   "cell_type": "markdown",
   "metadata": {},
   "source": [
    "### Step 07: Preliminary data analysis\n",
    "### Write the code to answer the following analytical queries.\n",
    "### - How many level 2 offences are there? Display the list of level 2 offences."
   ]
  },
  {
   "cell_type": "code",
   "execution_count": null,
   "metadata": {},
   "outputs": [],
   "source": [
    "# Finding the distinct entries in column 'Offence Level 2 Description'\n",
    "level_2_offence = final_crime_df.select('Offence Level 2 Description').distinct().na.drop()\n",
    "print('The number of level 2 offences are :', level_2_offence.count())\n",
    "print('The list of level 2 offences are :\\n')\n",
    "level_2_offence.show()"
   ]
  },
  {
   "cell_type": "markdown",
   "metadata": {},
   "source": [
    "### - What is the number of offences against the person?"
   ]
  },
  {
   "cell_type": "code",
   "execution_count": null,
   "metadata": {},
   "outputs": [],
   "source": [
    "# Counting the number of offences against the person after filtering\n",
    "offence_person = final_crime_df.filter(final_crime_df['Offence Level 1 Description']=='OFFENCES AGAINST THE PERSON').count()\n",
    "print('The number of offences against the person are :', offence_person)"
   ]
  },
  {
   "cell_type": "markdown",
   "metadata": {},
   "source": [
    "### - How many serious criminal tresspasses with more than 1 offence count?"
   ]
  },
  {
   "cell_type": "code",
   "execution_count": null,
   "metadata": {},
   "outputs": [],
   "source": [
    "# Counting the number of serious criminal tresspasses with more than 1 offence\n",
    "criminal_tress = final_crime_df.filter((final_crime_df['Offence Level 2 Description']=='SERIOUS CRIMINAL TRESPASS') & (final_crime_df['Offence Count']>1)).count()\n",
    "print('The number of serious criminal tresspasses with more than 1 offence count are :', criminal_tress)"
   ]
  },
  {
   "cell_type": "markdown",
   "metadata": {},
   "source": [
    "### - What percentage of crimes are offences against the property?"
   ]
  },
  {
   "cell_type": "code",
   "execution_count": null,
   "metadata": {},
   "outputs": [],
   "source": [
    "# Calculating percentage of crimes that are offences against the property\n",
    "total = final_crime_df.filter(final_crime_df['Offence Level 1 Description']=='OFFENCES AGAINST PROPERTY').count()\n",
    "print('The percentage of crimes are offences against the property =', 100*total/final_crime_df.count(), '%')"
   ]
  },
  {
   "cell_type": "markdown",
   "metadata": {},
   "source": [
    "### Step 08: Exploratory data analysis"
   ]
  },
  {
   "cell_type": "markdown",
   "metadata": {},
   "source": [
    "In the below code we are creating a user defined function which would split the date into day, month and year and store them as new columns."
   ]
  },
  {
   "cell_type": "code",
   "execution_count": 79,
   "metadata": {},
   "outputs": [],
   "source": [
    "from pyspark.sql.functions import *\n",
    "from pyspark.sql.types import *\n",
    "\n",
    "# Defining user defined function\n",
    "def splitUDF(row):\n",
    "    if \"/\" in row:\n",
    "        dd,mm,yyyy = row.split(\"/\")\n",
    "    elif \"-\" in row:\n",
    "        yyyy,dd,mm = row.split(\"-\")\n",
    "\n",
    "    return [yyyy,mm,dd]\n",
    "\n",
    "\n",
    "datSplitterUDF = udf(lambda row : splitUDF(row),ArrayType(StringType()))\n",
    "\n",
    "crime_count_df = new_df.withColumn('Reported Year', datSplitterUDF(col('Reported Date'))[0])\\\n",
    ".withColumn('Reported Month', datSplitterUDF(col('Reported Date'))[1])\\\n",
    ".withColumn('Reported Day', datSplitterUDF(col('Reported Date'))[2])"
   ]
  },
  {
   "cell_type": "markdown",
   "metadata": {},
   "source": [
    "### Find the number of crimes per year. Plot the graph and explain your understanding of the graph."
   ]
  },
  {
   "cell_type": "markdown",
   "metadata": {},
   "source": [
    "In the below code we are making a new dataframes with only reported year and offence count."
   ]
  },
  {
   "cell_type": "code",
   "execution_count": 80,
   "metadata": {},
   "outputs": [],
   "source": [
    "temp_df = crime_count_df.select(col('Reported Year').alias('yr'), col('Offence Count').alias('offence'))\n",
    "py_df = temp_df.filter(temp_df.offence.isNotNull()).groupBy('yr').agg(sum('offence').alias(\"crime_count\")).orderBy('yr')\n"
   ]
  },
  {
   "cell_type": "code",
   "execution_count": 81,
   "metadata": {},
   "outputs": [],
   "source": [
    "# Importing libraries\n",
    "import pandas as pd\n",
    "import matplotlib.pyplot as plt"
   ]
  },
  {
   "cell_type": "code",
   "execution_count": 86,
   "metadata": {},
   "outputs": [
    {
     "data": {
      "image/png": "[encoded data removed]",
      "text/plain": [
       "<Figure size 864x576 with 1 Axes>"
      ]
     },
     "metadata": {
      "needs_background": "light"
     },
     "output_type": "display_data"
    }
   ],
   "source": [
    "# Plotting the graph for number of crimes per year \n",
    "\n",
    "y_list = [int(row.crime_count) for row in py_df.select('crime_count').collect()]\n",
    "x_list = [int(row.yr) for row in py_df.select('yr').collect()]\n",
    "\n",
    "plt.figure(figsize=(12,8))\n",
    "plt.bar(x_list,y_list)\n",
    "plt.xlabel('Year', fontsize=16)\n",
    "plt.xticks(x_list)\n",
    "plt.ylabel('Crime Count',fontsize=16)\n",
    "plt.title('Number of crimes per year',fontsize=18)\n",
    "plt.show()"
   ]
  },
  {
   "cell_type": "markdown",
   "metadata": {},
   "source": [
    "* From the above graph we can observe that the years 2011 to 2016 were the years with high frequency of criminal offences.\n",
    "* After 2016 there has been a huge decline in the number of crimes."
   ]
  },
  {
   "cell_type": "markdown",
   "metadata": {},
   "source": [
    "### Find the number of crimes per month. Plot the graph and explain your understanding of the graph."
   ]
  },
  {
   "cell_type": "markdown",
   "metadata": {},
   "source": [
    "In the below code we are making a new dataframes with only reported month and offence count. "
   ]
  },
  {
   "cell_type": "code",
   "execution_count": null,
   "metadata": {},
   "outputs": [],
   "source": [
    "temp1_df = crime_count_df.select(col('Reported Month').alias('mon'), col('Offence Count').alias('offence'))\n",
    "pm_df = temp1_df.filter(temp1_df.offence.isNotNull()).groupBy('mon').agg(sum('offence').alias(\"crime_count\")).orderBy('mon')"
   ]
  },
  {
   "cell_type": "code",
   "execution_count": 87,
   "metadata": {},
   "outputs": [
    {
     "data": {
      "image/png": "[encoded data removed]",
      "text/plain": [
       "<Figure size 864x576 with 1 Axes>"
      ]
     },
     "metadata": {
      "needs_background": "light"
     },
     "output_type": "display_data"
    }
   ],
   "source": [
    "# # Plotting the graph for number of crimes per month \n",
    "y_m_list = [int(row.crime_count) for row in pm_df.select('crime_count').collect()]\n",
    "x_m_list = [int(row.mon) for row in pm_df.select('mon').collect()]\n",
    "\n",
    "plt.figure(figsize=(12,8))\n",
    "plt.bar(x_m_list,y_m_list)\n",
    "plt.xlabel('Month',fontsize=16)\n",
    "plt.ylabel('Crime Count',fontsize=16)\n",
    "plt.title('Number of crimes for different Months',fontsize=18)\n",
    "plt.show()"
   ]
  },
  {
   "cell_type": "markdown",
   "metadata": {},
   "source": [
    "From the above visualisation we can see that there has been almost a uniform distribution in number of crimes per month ranging from 60000 to about 80000 crimes per month."
   ]
  },
  {
   "cell_type": "markdown",
   "metadata": {},
   "source": [
    "### Where do most crimes take place? Find the top 20 suburbs (which would also display postcode for e.g. Caulfield-3162 )?  Plot the graph and explain your understanding of the graph."
   ]
  },
  {
   "cell_type": "code",
   "execution_count": 140,
   "metadata": {},
   "outputs": [
    {
     "name": "stdout",
     "output_type": "stream",
     "text": [
      "Top twenty suburbs in offence\n",
      "+--------------------+-------+\n",
      "|              Suburb|offence|\n",
      "+--------------------+-------+\n",
      "|       ADELAIDE-5000|  46701|\n",
      "|   PORT AUGUSTA-5700|  13711|\n",
      "|  MOUNT GAMBIER-5290|  13709|\n",
      "|  MURRAY BRIDGE-5253|  12919|\n",
      "|  MORPHETT VALE-5162|  12569|\n",
      "|      SALISBURY-5108|  10806|\n",
      "|   PORT LINCOLN-5606|  10779|\n",
      "|      ELIZABETH-5112|  10731|\n",
      "|   DAVOREN PARK-5113|   8082|\n",
      "|PARAFIELD GARDENS...|   8040|\n",
      "|  OAKLANDS PARK-5046|   7792|\n",
      "|      PARALOWIE-5108|   7261|\n",
      "|       PROSPECT-5082|   7234|\n",
      "|     PORT PIRIE-5540|   7155|\n",
      "|        MODBURY-5092|   7041|\n",
      "|     SMITHFIELD-5114|   7000|\n",
      "|SALISBURY NORTH-5108|   6538|\n",
      "| WHYALLA STUART-5608|   6297|\n",
      "|   MAWSON LAKES-5095|   6103|\n",
      "| WHYALLA NORRIE-5608|   5837|\n",
      "+--------------------+-------+\n",
      "\n"
     ]
    }
   ],
   "source": [
    "# Finding the top 20 suburbs in the order of the number of crimes\n",
    "th_df = crime_count_df.select(col('Suburb - Incident').alias('city'),col('Postcode - Incident').alias('post'),col('Offence Count').alias('offence'))\n",
    "pl_df = th_df.filter( th_df.post.isNotNull()).filter(th_df.post!='NOT DISCLOSED').select(concat('city',lit('-'),'post').alias('Suburb'),'offence').groupBy('Suburb').agg(sum('offence').alias('offence')).orderBy('offence',ascending=False).limit(20)\n",
    "print('Top twenty suburbs in offence :')\n",
    "pl_df.show()"
   ]
  },
  {
   "cell_type": "code",
   "execution_count": 141,
   "metadata": {},
   "outputs": [],
   "source": [
    "# Using list comprehension to get values used to later plot graph\n",
    "y_c_list = [int(row.offence) for row in pl_df.select('offence').collect()]\n",
    "x_c_list = [row.Suburb for row in pl_df.select('Suburb').collect()]\n"
   ]
  },
  {
   "cell_type": "code",
   "execution_count": 142,
   "metadata": {},
   "outputs": [
    {
     "data": {
      "image/png": "[encoded data removed]",
      "text/plain": [
       "<Figure size 864x576 with 1 Axes>"
      ]
     },
     "metadata": {
      "needs_background": "light"
     },
     "output_type": "display_data"
    }
   ],
   "source": [
    "# Plotting the graph of top 20 suburbs with their offence count\n",
    "plt.figure(figsize=(12,8))\n",
    "plt.barh(x_c_list,y_c_list)\n",
    "plt.ylabel('Suburb',fontsize=16)\n",
    "plt.xlabel('Offence Count',fontsize=16)\n",
    "plt.xticks(range(0,55000,5000))\n",
    "plt.title('Top 20 suburbs with offence count',fontsize=18)\n",
    "plt.show()\n"
   ]
  },
  {
   "cell_type": "code",
   "execution_count": null,
   "metadata": {},
   "outputs": [],
   "source": [
    "print('Most crimes take place in',x_c_list[0])"
   ]
  },
  {
   "cell_type": "markdown",
   "metadata": {},
   "source": [
    "From the above visualisation we observe that Adelaide has the highest number of offences, which is more that twice compared to each of the other suburbs."
   ]
  },
  {
   "cell_type": "markdown",
   "metadata": {},
   "source": [
    "### Find the number of serious criminal trespasses by day and month. Plot a graph and explain your understanding of the graph."
   ]
  },
  {
   "cell_type": "code",
   "execution_count": null,
   "metadata": {},
   "outputs": [],
   "source": [
    "import datetime\n",
    "import calendar\n",
    "\n",
    "ff_df = crime_count_df.select(col('Reported Date').alias('date'),col('Reported Month').alias('mon'),col('Offence Level 2 Description').alias('l2'),col('Offence Count').alias('offence'))\n",
    "ff_df=ff_df.filter(ff_df.offence.isNotNull())\n"
   ]
  },
  {
   "cell_type": "code",
   "execution_count": null,
   "metadata": {},
   "outputs": [],
   "source": [
    "from pyspark.sql.functions import udf,desc\n",
    "from datetime import datetime\n",
    "\n",
    "weekDay =  udf(lambda x: datetime.strptime(x, '%d/%m/%Y').strftime('%w'))\n",
    "\n",
    "dow_df = ff_df.withColumn('dow', weekDay(ff_df['date'])).filter(ff_df.l2=='SERIOUS CRIMINAL TRESPASS').groupBy(['mon','dow']).agg(sum('offence').alias('offence')).orderBy(['dow','mon'])"
   ]
  },
  {
   "cell_type": "code",
   "execution_count": null,
   "metadata": {},
   "outputs": [],
   "source": [
    "y_f_list = [int(row.offence) for row in dow_df.select('offence').collect()]"
   ]
  },
  {
   "cell_type": "code",
   "execution_count": null,
   "metadata": {},
   "outputs": [],
   "source": [
    "\n",
    "import numpy as np\n",
    "final_list=[]\n",
    "j=0\n",
    "for i in range(7):\n",
    "    w_l=[]\n",
    "    for k in range(12):\n",
    "        w_l.append(y_f_list[j])\n",
    "        j+=1\n",
    "    final_list.append(w_l)\n",
    "\n",
    "rang=[]\n",
    "for o in range(7):\n",
    "    l1=[]\n",
    "    for j in range(12):\n",
    "        l1.append(j+o*1.25)\n",
    "    rang.append(l1)\n",
    "\n",
    "months = ['Jan','Feb','Mar','Apr','May','Jun','Jul','Aug','Sep','Oct','Nov','Dec']\n",
    "r1=np.arange(12)\n",
    "r2 = [x + 0.125 for x in r1]\n",
    "r3 = [x + 0.125 for x in r2]\n",
    "r4 = [x + 0.125 for x in r3]\n",
    "r5 = [x + 0.125 for x in r4]\n",
    "r6 = [x + 0.125 for x in r5]\n",
    "r7 = [x + 0.125 for x in r6]"
   ]
  },
  {
   "cell_type": "code",
   "execution_count": null,
   "metadata": {},
   "outputs": [],
   "source": [
    "plt.figure(figsize=(18,8))\n",
    "\n",
    "plt.bar(r1, final_list[0], color='teal', width=0.125, edgecolor='white', label='Sunday')\n",
    "plt.bar(r2, final_list[1], color='red', width=0.125, edgecolor='white', label='Monday')\n",
    "plt.bar(r3, final_list[2], color='blue', width=0.125, edgecolor='white', label='Tuesday')\n",
    "plt.bar(r4, final_list[3], color='green', width=0.125, edgecolor='white', label='Wednesday')\n",
    "plt.bar(r5, final_list[4], color='orange', width=0.125, edgecolor='white', label='Thursday')\n",
    "plt.bar(r6, final_list[5], color='cyan', width=0.125, edgecolor='white', label='Friday')\n",
    "plt.bar(r7, final_list[6], color='yellow', width=0.125, edgecolor='white', label='Saturday')\n",
    "plt.xlabel('Months')\n",
    "plt.legend()\n",
    "plt.ylabel('Number of SERIOUS CRIMINAL TRESPASS')\n",
    "plt.xticks([r + 0.125 for r in range(12)], months)\n",
    "plt.title('Top 20 suburbs with offence count',fontsize=18)\n",
    "\n",
    "plt.show()\n",
    "\n"
   ]
  },
  {
   "cell_type": "markdown",
   "metadata": {},
   "source": [
    "From the above graph we can see that second day of the week of each month has the highest number of serious criminal trespasses compared to other days of the week."
   ]
  }
 ],
 "metadata": {
  "kernelspec": {
   "display_name": "Python 3",
   "language": "python",
   "name": "python3"
  },
  "language_info": {
   "codemirror_mode": {
    "name": "ipython",
    "version": 3
   },
   "file_extension": ".py",
   "mimetype": "text/x-python",
   "name": "python",
   "nbconvert_exporter": "python",
   "pygments_lexer": "ipython3",
   "version": "3.7.3"
  }
 },
 "nbformat": 4,
 "nbformat_minor": 2
}
